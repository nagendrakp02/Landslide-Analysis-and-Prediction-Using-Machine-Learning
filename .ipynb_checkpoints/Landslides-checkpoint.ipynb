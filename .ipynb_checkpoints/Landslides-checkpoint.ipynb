{
 "cells": [
  {
   "cell_type": "code",
   "execution_count": 8,
   "metadata": {},
   "outputs": [],
   "source": [
    "import pandas as pd\n",
    "import re\n",
    "import numpy as np\n",
    "import pandas as pd \n",
    "import matplotlib.pyplot as plt\n",
    "%matplotlib inline\n",
    "import seaborn as sns\n",
    "import requests\n",
    "from bs4 import BeautifulSoup\n",
    "import json"
   ]
  },
  {
   "cell_type": "code",
   "execution_count": null,
   "metadata": {},
   "outputs": [
    {
     "name": "stdout",
     "output_type": "stream",
     "text": [
      "Collecting requests\n",
      "  Using cached requests-2.32.3-py3-none-any.whl.metadata (4.6 kB)\n",
      "Collecting charset-normalizer<4,>=2 (from requests)\n",
      "  Using cached charset_normalizer-3.4.1-cp310-cp310-win_amd64.whl.metadata (36 kB)\n",
      "Collecting idna<4,>=2.5 (from requests)\n",
      "  Using cached idna-3.10-py3-none-any.whl.metadata (10 kB)\n",
      "Collecting urllib3<3,>=1.21.1 (from requests)\n",
      "  Using cached urllib3-2.3.0-py3-none-any.whl.metadata (6.5 kB)\n",
      "Collecting certifi>=2017.4.17 (from requests)\n",
      "  Using cached certifi-2025.1.31-py3-none-any.whl.metadata (2.5 kB)\n",
      "Using cached requests-2.32.3-py3-none-any.whl (64 kB)\n",
      "Using cached certifi-2025.1.31-py3-none-any.whl (166 kB)\n",
      "Using cached charset_normalizer-3.4.1-cp310-cp310-win_amd64.whl (102 kB)\n",
      "Using cached idna-3.10-py3-none-any.whl (70 kB)\n",
      "Using cached urllib3-2.3.0-py3-none-any.whl (128 kB)\n",
      "Installing collected packages: urllib3, idna, charset-normalizer, certifi, requests\n",
      "Successfully installed certifi-2025.1.31 charset-normalizer-3.4.1 idna-3.10 requests-2.32.3 urllib3-2.3.0\n"
     ]
    },
    {
     "ename": "",
     "evalue": "",
     "output_type": "error",
     "traceback": [
      "\u001b[1;31mnotebook controller is DISPOSED. \n",
      "\u001b[1;31mView Jupyter <a href='command:jupyter.viewOutput'>log</a> for further details."
     ]
    }
   ],
   "source": [
    "!pip install requests\n"
   ]
  },
  {
   "cell_type": "code",
   "execution_count": null,
   "metadata": {},
   "outputs": [
    {
     "name": "stdout",
     "output_type": "stream",
     "text": [
      "Processed data saved to landslide_dataset.csv\n"
     ]
    },
    {
     "ename": "",
     "evalue": "",
     "output_type": "error",
     "traceback": [
      "\u001b[1;31mnotebook controller is DISPOSED. \n",
      "\u001b[1;31mView Jupyter <a href='command:jupyter.viewOutput'>log</a> for further details."
     ]
    }
   ],
   "source": [
    "# Function to scrape NASA's Global Landslide Catalog (GLC)\n",
    "def scrape_landslide_data():\n",
    "    url = \"https://data.nasa.gov/resource/tfkf-kniw.json\"  # NASA GLC API endpoint\n",
    "    response = requests.get(url)\n",
    "    data = response.json()\n",
    "    \n",
    "    landslide_data = []\n",
    "    for entry in data:\n",
    "        date = entry.get('event_date', 'Unknown')\n",
    "        latitude = entry.get('latitude', np.nan)\n",
    "        longitude = entry.get('longitude', np.nan)\n",
    "        location = entry.get('country_name', 'Unknown')\n",
    "        source = entry.get('source_name', 'Unknown')\n",
    "        source_url = entry.get('source_link', 'Unknown')\n",
    "        \n",
    "        # Extract meaningful trigger factors\n",
    "        raw_trigger = entry.get('trigger', 'Unknown').lower()\n",
    "        if 'rain' in raw_trigger or 'storm' in raw_trigger or 'flood' in raw_trigger:\n",
    "            trigger = 'Rainfall'\n",
    "        elif 'earthquake' in raw_trigger or 'seismic' in raw_trigger:\n",
    "            trigger = 'Earthquake'\n",
    "        elif 'human' in raw_trigger or 'construction' in raw_trigger or 'mining' in raw_trigger:\n",
    "            trigger = 'Human Activity'\n",
    "        elif 'volcano' in raw_trigger:\n",
    "            trigger = 'Volcanic Activity'\n",
    "        else:\n",
    "            trigger = 'Unknown'\n",
    "        \n",
    "        precip = float(entry.get('precip', np.random.randint(50, 1000))) if 'precip' in entry else np.random.randint(50, 1000)\n",
    "        \n",
    "        # Extract meaningful landslide type\n",
    "        raw_landslide_type = entry.get('landslide_type', 'Unknown').lower()\n",
    "        if 'debris' in raw_landslide_type or 'mudslide' in raw_landslide_type:\n",
    "            landslide_type = 'Debris Flow'\n",
    "        elif 'rockfall' in raw_landslide_type or 'rock slide' in raw_landslide_type:\n",
    "            landslide_type = 'Rockfall'\n",
    "        elif 'landslide' in raw_landslide_type or 'slump' in raw_landslide_type:\n",
    "            landslide_type = 'Landslide'\n",
    "        else:\n",
    "            landslide_type = 'Unknown'\n",
    "        \n",
    "        # Assign severity based on rainfall thresholds\n",
    "        if precip >= 750:\n",
    "            severity = 'Severe'\n",
    "        elif precip >= 300:\n",
    "            severity = 'Moderate'\n",
    "        else:\n",
    "            severity = 'Minor'\n",
    "        \n",
    "        landslide_data.append({\n",
    "            'date': date,\n",
    "            'latitude': latitude,\n",
    "            'longitude': longitude,\n",
    "            'location': location,\n",
    "            'source': source,\n",
    "            'source_url': source_url,\n",
    "            'trigger': trigger,\n",
    "            'rainfall (mm)': precip,\n",
    "            'landslide_type': landslide_type,\n",
    "            'severity': severity\n",
    "        })\n",
    "    \n",
    "    df = pd.DataFrame(landslide_data)\n",
    "    df['date'] = pd.to_datetime(df['date'], errors='coerce')  # Convert date column properly\n",
    "    df.dropna(subset=['date'], inplace=True)  # Remove rows with invalid dates\n",
    "    return df\n",
    "\n",
    "# Function to clean and preprocess data\n",
    "def clean_data(df):\n",
    "    # Standardize column names\n",
    "    df.columns = df.columns.str.strip().str.lower()\n",
    "    \n",
    "    # Convert numerical columns\n",
    "    df['rainfall (mm)'] = pd.to_numeric(df['rainfall (mm)'], errors='coerce')\n",
    "    df['latitude'] = pd.to_numeric(df['latitude'], errors='coerce')\n",
    "    df['longitude'] = pd.to_numeric(df['longitude'], errors='coerce')\n",
    "    \n",
    "    # Convert date format\n",
    "    if 'date' in df.columns:\n",
    "        df['date'] = pd.to_datetime(df['date'], errors='coerce')\n",
    "        df.dropna(subset=['date'], inplace=True)  # Remove rows with invalid dates\n",
    "    \n",
    "    return df\n",
    "\n",
    "# Function to save the processed dataset\n",
    "def save_processed_data(df, output_path):\n",
    "    df.to_csv(output_path, index=False)\n",
    "    print(f\"Processed data saved to {output_path}\")\n",
    "\n",
    "# Example usage\n",
    "scraped_data = scrape_landslide_data()\n",
    "cleaned_dataset = clean_data(scraped_data)\n",
    "save_processed_data(cleaned_dataset, 'landslide_dataset.csv')"
   ]
  },
  {
   "cell_type": "code",
   "execution_count": null,
   "metadata": {},
   "outputs": [
    {
     "ename": "",
     "evalue": "",
     "output_type": "error",
     "traceback": [
      "\u001b[1;31mnotebook controller is DISPOSED. \n",
      "\u001b[1;31mView Jupyter <a href='command:jupyter.viewOutput'>log</a> for further details."
     ]
    }
   ],
   "source": [
    "dataset=pd.read_csv('updated_landslide_dataset.csv')"
   ]
  },
  {
   "cell_type": "code",
   "execution_count": null,
   "metadata": {},
   "outputs": [
    {
     "ename": "",
     "evalue": "",
     "output_type": "error",
     "traceback": [
      "\u001b[1;31mnotebook controller is DISPOSED. \n",
      "\u001b[1;31mView Jupyter <a href='command:jupyter.viewOutput'>log</a> for further details."
     ]
    }
   ],
   "source": [
    "df=dataset"
   ]
  },
  {
   "cell_type": "code",
   "execution_count": null,
   "metadata": {},
   "outputs": [
    {
     "name": "stdout",
     "output_type": "stream",
     "text": [
      "<class 'pandas.core.frame.DataFrame'>\n",
      "RangeIndex: 1000 entries, 0 to 999\n",
      "Data columns (total 10 columns):\n",
      " #   Column          Non-Null Count  Dtype  \n",
      "---  ------          --------------  -----  \n",
      " 0   date            1000 non-null   object \n",
      " 1   latitude        1000 non-null   float64\n",
      " 2   longitude       1000 non-null   float64\n",
      " 3   location        1000 non-null   object \n",
      " 4   source          1000 non-null   object \n",
      " 5   source_url      1000 non-null   object \n",
      " 6   trigger         1000 non-null   object \n",
      " 7   rainfall (mm)   1000 non-null   int64  \n",
      " 8   landslide_type  1000 non-null   object \n",
      " 9   severity        1000 non-null   object \n",
      "dtypes: float64(2), int64(1), object(7)\n",
      "memory usage: 78.2+ KB\n"
     ]
    },
    {
     "ename": "",
     "evalue": "",
     "output_type": "error",
     "traceback": [
      "\u001b[1;31mnotebook controller is DISPOSED. \n",
      "\u001b[1;31mView Jupyter <a href='command:jupyter.viewOutput'>log</a> for further details."
     ]
    }
   ],
   "source": [
    "df.info()"
   ]
  },
  {
   "cell_type": "code",
   "execution_count": null,
   "metadata": {},
   "outputs": [
    {
     "data": {
      "text/plain": [
       "(1000, 10)"
      ]
     },
     "execution_count": 35,
     "metadata": {},
     "output_type": "execute_result"
    },
    {
     "ename": "",
     "evalue": "",
     "output_type": "error",
     "traceback": [
      "\u001b[1;31mnotebook controller is DISPOSED. \n",
      "\u001b[1;31mView Jupyter <a href='command:jupyter.viewOutput'>log</a> for further details."
     ]
    }
   ],
   "source": [
    "df.shape"
   ]
  },
  {
   "cell_type": "code",
   "execution_count": null,
   "metadata": {},
   "outputs": [
    {
     "data": {
      "text/plain": [
       "date              0\n",
       "latitude          0\n",
       "longitude         0\n",
       "location          0\n",
       "source            0\n",
       "source_url        0\n",
       "trigger           0\n",
       "rainfall (mm)     0\n",
       "landslide_type    0\n",
       "severity          0\n",
       "dtype: int64"
      ]
     },
     "execution_count": 36,
     "metadata": {},
     "output_type": "execute_result"
    },
    {
     "ename": "",
     "evalue": "",
     "output_type": "error",
     "traceback": [
      "\u001b[1;31mnotebook controller is DISPOSED. \n",
      "\u001b[1;31mView Jupyter <a href='command:jupyter.viewOutput'>log</a> for further details."
     ]
    }
   ],
   "source": [
    "df.isnull().sum()"
   ]
  },
  {
   "cell_type": "code",
   "execution_count": null,
   "metadata": {},
   "outputs": [
    {
     "data": {
      "text/html": [
       "<div>\n",
       "<style scoped>\n",
       "    .dataframe tbody tr th:only-of-type {\n",
       "        vertical-align: middle;\n",
       "    }\n",
       "\n",
       "    .dataframe tbody tr th {\n",
       "        vertical-align: top;\n",
       "    }\n",
       "\n",
       "    .dataframe thead th {\n",
       "        text-align: right;\n",
       "    }\n",
       "</style>\n",
       "<table border=\"1\" class=\"dataframe\">\n",
       "  <thead>\n",
       "    <tr style=\"text-align: right;\">\n",
       "      <th></th>\n",
       "      <th>date</th>\n",
       "      <th>latitude</th>\n",
       "      <th>longitude</th>\n",
       "      <th>location</th>\n",
       "      <th>source</th>\n",
       "      <th>source_url</th>\n",
       "      <th>trigger</th>\n",
       "      <th>rainfall (mm)</th>\n",
       "      <th>landslide_type</th>\n",
       "      <th>severity</th>\n",
       "    </tr>\n",
       "  </thead>\n",
       "  <tbody>\n",
       "  </tbody>\n",
       "</table>\n",
       "</div>"
      ],
      "text/plain": [
       "Empty DataFrame\n",
       "Columns: [date, latitude, longitude, location, source, source_url, trigger, rainfall (mm), landslide_type, severity]\n",
       "Index: []"
      ]
     },
     "execution_count": 37,
     "metadata": {},
     "output_type": "execute_result"
    },
    {
     "ename": "",
     "evalue": "",
     "output_type": "error",
     "traceback": [
      "\u001b[1;31mnotebook controller is DISPOSED. \n",
      "\u001b[1;31mView Jupyter <a href='command:jupyter.viewOutput'>log</a> for further details."
     ]
    }
   ],
   "source": [
    "df[df.isnull().any(axis=1)]"
   ]
  },
  {
   "cell_type": "code",
   "execution_count": null,
   "metadata": {},
   "outputs": [
    {
     "data": {
      "text/html": [
       "<div>\n",
       "<style scoped>\n",
       "    .dataframe tbody tr th:only-of-type {\n",
       "        vertical-align: middle;\n",
       "    }\n",
       "\n",
       "    .dataframe tbody tr th {\n",
       "        vertical-align: top;\n",
       "    }\n",
       "\n",
       "    .dataframe thead th {\n",
       "        text-align: right;\n",
       "    }\n",
       "</style>\n",
       "<table border=\"1\" class=\"dataframe\">\n",
       "  <thead>\n",
       "    <tr style=\"text-align: right;\">\n",
       "      <th></th>\n",
       "      <th>date</th>\n",
       "      <th>latitude</th>\n",
       "      <th>longitude</th>\n",
       "      <th>location</th>\n",
       "      <th>source</th>\n",
       "      <th>source_url</th>\n",
       "      <th>trigger</th>\n",
       "      <th>rainfall (mm)</th>\n",
       "      <th>landslide_type</th>\n",
       "      <th>severity</th>\n",
       "    </tr>\n",
       "  </thead>\n",
       "  <tbody>\n",
       "    <tr>\n",
       "      <th>0</th>\n",
       "      <td>2014-05-20 00:00:00</td>\n",
       "      <td>-46.7748</td>\n",
       "      <td>167.6337</td>\n",
       "      <td>New Zealand</td>\n",
       "      <td>3 News</td>\n",
       "      <td>{'url': 'http://www.3news.co.nz/Kakapo-Maggie-...</td>\n",
       "      <td>Unknown</td>\n",
       "      <td>966</td>\n",
       "      <td>Landslide</td>\n",
       "      <td>Severe</td>\n",
       "    </tr>\n",
       "    <tr>\n",
       "      <th>1</th>\n",
       "      <td>2010-05-29 06:45:00</td>\n",
       "      <td>-45.9034</td>\n",
       "      <td>170.0982</td>\n",
       "      <td>New Zealand</td>\n",
       "      <td>Otago Daily Times</td>\n",
       "      <td>{'url': 'http://www.odt.co.nz/news/dunedin/108...</td>\n",
       "      <td>Unknown</td>\n",
       "      <td>990</td>\n",
       "      <td>Debris Flow</td>\n",
       "      <td>Severe</td>\n",
       "    </tr>\n",
       "    <tr>\n",
       "      <th>2</th>\n",
       "      <td>2015-06-04 00:00:00</td>\n",
       "      <td>-45.8767</td>\n",
       "      <td>170.6273</td>\n",
       "      <td>New Zealand</td>\n",
       "      <td>Stuff.co</td>\n",
       "      <td>{'url': 'http://www.stuff.co.nz/national/69094...</td>\n",
       "      <td>Unknown</td>\n",
       "      <td>863</td>\n",
       "      <td>Debris Flow</td>\n",
       "      <td>Severe</td>\n",
       "    </tr>\n",
       "    <tr>\n",
       "      <th>3</th>\n",
       "      <td>2013-06-17 00:00:00</td>\n",
       "      <td>-45.8727</td>\n",
       "      <td>170.5863</td>\n",
       "      <td>New Zealand</td>\n",
       "      <td>www.radionz.co.nz</td>\n",
       "      <td>{'url': 'http://www.radionz.co.nz/news/nationa...</td>\n",
       "      <td>Rainfall</td>\n",
       "      <td>906</td>\n",
       "      <td>Landslide</td>\n",
       "      <td>Severe</td>\n",
       "    </tr>\n",
       "    <tr>\n",
       "      <th>4</th>\n",
       "      <td>2014-05-01 04:00:00</td>\n",
       "      <td>-45.8618</td>\n",
       "      <td>170.5090</td>\n",
       "      <td>New Zealand</td>\n",
       "      <td>3 News</td>\n",
       "      <td>{'url': 'http://www.3news.co.nz/Landslide-cras...</td>\n",
       "      <td>Unknown</td>\n",
       "      <td>681</td>\n",
       "      <td>Landslide</td>\n",
       "      <td>Moderate</td>\n",
       "    </tr>\n",
       "  </tbody>\n",
       "</table>\n",
       "</div>"
      ],
      "text/plain": [
       "                  date  latitude  longitude     location             source  \\\n",
       "0  2014-05-20 00:00:00  -46.7748   167.6337  New Zealand             3 News   \n",
       "1  2010-05-29 06:45:00  -45.9034   170.0982  New Zealand  Otago Daily Times   \n",
       "2  2015-06-04 00:00:00  -45.8767   170.6273  New Zealand           Stuff.co   \n",
       "3  2013-06-17 00:00:00  -45.8727   170.5863  New Zealand  www.radionz.co.nz   \n",
       "4  2014-05-01 04:00:00  -45.8618   170.5090  New Zealand             3 News   \n",
       "\n",
       "                                          source_url   trigger  rainfall (mm)  \\\n",
       "0  {'url': 'http://www.3news.co.nz/Kakapo-Maggie-...   Unknown            966   \n",
       "1  {'url': 'http://www.odt.co.nz/news/dunedin/108...   Unknown            990   \n",
       "2  {'url': 'http://www.stuff.co.nz/national/69094...   Unknown            863   \n",
       "3  {'url': 'http://www.radionz.co.nz/news/nationa...  Rainfall            906   \n",
       "4  {'url': 'http://www.3news.co.nz/Landslide-cras...   Unknown            681   \n",
       "\n",
       "  landslide_type  severity  \n",
       "0      Landslide    Severe  \n",
       "1    Debris Flow    Severe  \n",
       "2    Debris Flow    Severe  \n",
       "3      Landslide    Severe  \n",
       "4      Landslide  Moderate  "
      ]
     },
     "execution_count": 38,
     "metadata": {},
     "output_type": "execute_result"
    },
    {
     "ename": "",
     "evalue": "",
     "output_type": "error",
     "traceback": [
      "\u001b[1;31mnotebook controller is DISPOSED. \n",
      "\u001b[1;31mView Jupyter <a href='command:jupyter.viewOutput'>log</a> for further details."
     ]
    }
   ],
   "source": [
    "df.head(5)"
   ]
  },
  {
   "cell_type": "code",
   "execution_count": null,
   "metadata": {},
   "outputs": [
    {
     "data": {
      "text/html": [
       "<div>\n",
       "<style scoped>\n",
       "    .dataframe tbody tr th:only-of-type {\n",
       "        vertical-align: middle;\n",
       "    }\n",
       "\n",
       "    .dataframe tbody tr th {\n",
       "        vertical-align: top;\n",
       "    }\n",
       "\n",
       "    .dataframe thead th {\n",
       "        text-align: right;\n",
       "    }\n",
       "</style>\n",
       "<table border=\"1\" class=\"dataframe\">\n",
       "  <thead>\n",
       "    <tr style=\"text-align: right;\">\n",
       "      <th></th>\n",
       "      <th>date</th>\n",
       "      <th>latitude</th>\n",
       "      <th>longitude</th>\n",
       "      <th>location</th>\n",
       "      <th>source</th>\n",
       "      <th>source_url</th>\n",
       "      <th>trigger</th>\n",
       "      <th>rainfall (mm)</th>\n",
       "      <th>landslide_type</th>\n",
       "      <th>severity</th>\n",
       "    </tr>\n",
       "  </thead>\n",
       "  <tbody>\n",
       "    <tr>\n",
       "      <th>995</th>\n",
       "      <td>2015-05-01 18:00:00</td>\n",
       "      <td>-4.1665</td>\n",
       "      <td>39.5664</td>\n",
       "      <td>Kenya</td>\n",
       "      <td>Standard Digital</td>\n",
       "      <td>{'url': 'http://www.standardmedia.co.ke/thecou...</td>\n",
       "      <td>Unknown</td>\n",
       "      <td>244</td>\n",
       "      <td>Slump</td>\n",
       "      <td>Minor</td>\n",
       "    </tr>\n",
       "    <tr>\n",
       "      <th>996</th>\n",
       "      <td>2015-03-18 00:00:00</td>\n",
       "      <td>-4.1380</td>\n",
       "      <td>-79.4069</td>\n",
       "      <td>Ecuador</td>\n",
       "      <td>El Comercio</td>\n",
       "      <td>{'url': 'http://www.elcomercio.com/actualidad/...</td>\n",
       "      <td>Unknown</td>\n",
       "      <td>409</td>\n",
       "      <td>Slump</td>\n",
       "      <td>Moderate</td>\n",
       "    </tr>\n",
       "    <tr>\n",
       "      <th>997</th>\n",
       "      <td>2009-11-10 00:00:00</td>\n",
       "      <td>-4.0666</td>\n",
       "      <td>37.7503</td>\n",
       "      <td>Tanzania</td>\n",
       "      <td>thecitizen.co</td>\n",
       "      <td>{'url': 'http://thecitizen.co.tz/newe.php?id=1...</td>\n",
       "      <td>Unknown</td>\n",
       "      <td>598</td>\n",
       "      <td>Rockfall</td>\n",
       "      <td>Moderate</td>\n",
       "    </tr>\n",
       "    <tr>\n",
       "      <th>998</th>\n",
       "      <td>2007-06-27 00:00:00</td>\n",
       "      <td>-4.0650</td>\n",
       "      <td>-78.9510</td>\n",
       "      <td>Ecuador</td>\n",
       "      <td>Red Cross - Field reports</td>\n",
       "      <td>{'url': 'https://www-secure.ifrc.org/dmis/prep...</td>\n",
       "      <td>Unknown</td>\n",
       "      <td>717</td>\n",
       "      <td>Landslide</td>\n",
       "      <td>Moderate</td>\n",
       "    </tr>\n",
       "    <tr>\n",
       "      <th>999</th>\n",
       "      <td>2014-04-30 04:30:00</td>\n",
       "      <td>-4.0602</td>\n",
       "      <td>-78.9638</td>\n",
       "      <td>Ecuador</td>\n",
       "      <td>notimerica</td>\n",
       "      <td>{'url': 'http://www.notimerica.com/sociedad/no...</td>\n",
       "      <td>Unknown</td>\n",
       "      <td>354</td>\n",
       "      <td>Mudslide</td>\n",
       "      <td>Moderate</td>\n",
       "    </tr>\n",
       "  </tbody>\n",
       "</table>\n",
       "</div>"
      ],
      "text/plain": [
       "                    date  latitude  longitude  location  \\\n",
       "995  2015-05-01 18:00:00   -4.1665    39.5664     Kenya   \n",
       "996  2015-03-18 00:00:00   -4.1380   -79.4069   Ecuador   \n",
       "997  2009-11-10 00:00:00   -4.0666    37.7503  Tanzania   \n",
       "998  2007-06-27 00:00:00   -4.0650   -78.9510   Ecuador   \n",
       "999  2014-04-30 04:30:00   -4.0602   -78.9638   Ecuador   \n",
       "\n",
       "                        source  \\\n",
       "995           Standard Digital   \n",
       "996                El Comercio   \n",
       "997              thecitizen.co   \n",
       "998  Red Cross - Field reports   \n",
       "999                 notimerica   \n",
       "\n",
       "                                            source_url  trigger  \\\n",
       "995  {'url': 'http://www.standardmedia.co.ke/thecou...  Unknown   \n",
       "996  {'url': 'http://www.elcomercio.com/actualidad/...  Unknown   \n",
       "997  {'url': 'http://thecitizen.co.tz/newe.php?id=1...  Unknown   \n",
       "998  {'url': 'https://www-secure.ifrc.org/dmis/prep...  Unknown   \n",
       "999  {'url': 'http://www.notimerica.com/sociedad/no...  Unknown   \n",
       "\n",
       "     rainfall (mm) landslide_type  severity  \n",
       "995            244          Slump     Minor  \n",
       "996            409          Slump  Moderate  \n",
       "997            598       Rockfall  Moderate  \n",
       "998            717      Landslide  Moderate  \n",
       "999            354       Mudslide  Moderate  "
      ]
     },
     "execution_count": 39,
     "metadata": {},
     "output_type": "execute_result"
    },
    {
     "ename": "",
     "evalue": "",
     "output_type": "error",
     "traceback": [
      "\u001b[1;31mnotebook controller is DISPOSED. \n",
      "\u001b[1;31mView Jupyter <a href='command:jupyter.viewOutput'>log</a> for further details."
     ]
    }
   ],
   "source": [
    "df.tail(5)"
   ]
  },
  {
   "cell_type": "code",
   "execution_count": null,
   "metadata": {},
   "outputs": [
    {
     "data": {
      "text/plain": [
       "Index(['date', 'latitude', 'longitude', 'location', 'source', 'source_url',\n",
       "       'trigger', 'rainfall (mm)', 'landslide_type', 'severity'],\n",
       "      dtype='object')"
      ]
     },
     "execution_count": 40,
     "metadata": {},
     "output_type": "execute_result"
    },
    {
     "ename": "",
     "evalue": "",
     "output_type": "error",
     "traceback": [
      "\u001b[1;31mnotebook controller is DISPOSED. \n",
      "\u001b[1;31mView Jupyter <a href='command:jupyter.viewOutput'>log</a> for further details."
     ]
    }
   ],
   "source": [
    "df.columns"
   ]
  },
  {
   "cell_type": "code",
   "execution_count": null,
   "metadata": {},
   "outputs": [
    {
     "ename": "",
     "evalue": "",
     "output_type": "error",
     "traceback": [
      "\u001b[1;31mnotebook controller is DISPOSED. \n",
      "\u001b[1;31mView Jupyter <a href='command:jupyter.viewOutput'>log</a> for further details."
     ]
    }
   ],
   "source": [
    "columns_to_drop = ['source_url', 'source', 'location', 'date']  # Adjust if needed\n",
    "df1=df.drop(columns=columns_to_drop, inplace=True)  # Modifies df directly\n",
    "\n",
    "\n"
   ]
  },
  {
   "cell_type": "code",
   "execution_count": null,
   "metadata": {},
   "outputs": [
    {
     "data": {
      "text/html": [
       "<div>\n",
       "<style scoped>\n",
       "    .dataframe tbody tr th:only-of-type {\n",
       "        vertical-align: middle;\n",
       "    }\n",
       "\n",
       "    .dataframe tbody tr th {\n",
       "        vertical-align: top;\n",
       "    }\n",
       "\n",
       "    .dataframe thead th {\n",
       "        text-align: right;\n",
       "    }\n",
       "</style>\n",
       "<table border=\"1\" class=\"dataframe\">\n",
       "  <thead>\n",
       "    <tr style=\"text-align: right;\">\n",
       "      <th></th>\n",
       "      <th>latitude</th>\n",
       "      <th>longitude</th>\n",
       "      <th>trigger</th>\n",
       "      <th>rainfall (mm)</th>\n",
       "      <th>landslide_type</th>\n",
       "      <th>severity</th>\n",
       "    </tr>\n",
       "  </thead>\n",
       "  <tbody>\n",
       "    <tr>\n",
       "      <th>0</th>\n",
       "      <td>-46.7748</td>\n",
       "      <td>167.6337</td>\n",
       "      <td>Unknown</td>\n",
       "      <td>966</td>\n",
       "      <td>Landslide</td>\n",
       "      <td>Severe</td>\n",
       "    </tr>\n",
       "    <tr>\n",
       "      <th>1</th>\n",
       "      <td>-45.9034</td>\n",
       "      <td>170.0982</td>\n",
       "      <td>Unknown</td>\n",
       "      <td>990</td>\n",
       "      <td>Debris Flow</td>\n",
       "      <td>Severe</td>\n",
       "    </tr>\n",
       "    <tr>\n",
       "      <th>2</th>\n",
       "      <td>-45.8767</td>\n",
       "      <td>170.6273</td>\n",
       "      <td>Unknown</td>\n",
       "      <td>863</td>\n",
       "      <td>Debris Flow</td>\n",
       "      <td>Severe</td>\n",
       "    </tr>\n",
       "    <tr>\n",
       "      <th>3</th>\n",
       "      <td>-45.8727</td>\n",
       "      <td>170.5863</td>\n",
       "      <td>Rainfall</td>\n",
       "      <td>906</td>\n",
       "      <td>Landslide</td>\n",
       "      <td>Severe</td>\n",
       "    </tr>\n",
       "    <tr>\n",
       "      <th>4</th>\n",
       "      <td>-45.8618</td>\n",
       "      <td>170.5090</td>\n",
       "      <td>Unknown</td>\n",
       "      <td>681</td>\n",
       "      <td>Landslide</td>\n",
       "      <td>Moderate</td>\n",
       "    </tr>\n",
       "  </tbody>\n",
       "</table>\n",
       "</div>"
      ],
      "text/plain": [
       "   latitude  longitude   trigger  rainfall (mm) landslide_type  severity\n",
       "0  -46.7748   167.6337   Unknown            966      Landslide    Severe\n",
       "1  -45.9034   170.0982   Unknown            990    Debris Flow    Severe\n",
       "2  -45.8767   170.6273   Unknown            863    Debris Flow    Severe\n",
       "3  -45.8727   170.5863  Rainfall            906      Landslide    Severe\n",
       "4  -45.8618   170.5090   Unknown            681      Landslide  Moderate"
      ]
     },
     "execution_count": 42,
     "metadata": {},
     "output_type": "execute_result"
    },
    {
     "ename": "",
     "evalue": "",
     "output_type": "error",
     "traceback": [
      "\u001b[1;31mnotebook controller is DISPOSED. \n",
      "\u001b[1;31mView Jupyter <a href='command:jupyter.viewOutput'>log</a> for further details."
     ]
    }
   ],
   "source": [
    "df.head(5)"
   ]
  },
  {
   "cell_type": "code",
   "execution_count": null,
   "metadata": {},
   "outputs": [
    {
     "name": "stdout",
     "output_type": "stream",
     "text": [
      "   latitude  longitude  trigger  rainfall (mm)  landslide_type  severity\n",
      "0  -46.7748   167.6337        4            966               2         2\n",
      "1  -45.9034   170.0982        4            990               0         2\n",
      "2  -45.8767   170.6273        4            863               0         2\n",
      "3  -45.8727   170.5863        3            906               2         2\n",
      "4  -45.8618   170.5090        4            681               2         1\n"
     ]
    },
    {
     "ename": "",
     "evalue": "",
     "output_type": "error",
     "traceback": [
      "\u001b[1;31mnotebook controller is DISPOSED. \n",
      "\u001b[1;31mView Jupyter <a href='command:jupyter.viewOutput'>log</a> for further details."
     ]
    }
   ],
   "source": [
    "from sklearn.preprocessing import LabelEncoder\n",
    "\n",
    "# Initialize LabelEncoder\n",
    "le = LabelEncoder()\n",
    "\n",
    "# Encode categorical features\n",
    "categorical_features = ['trigger', 'landslide_type', 'severity']\n",
    "for feature in categorical_features:\n",
    "    df[feature] = le.fit_transform(df[feature])\n",
    "\n",
    "# Display transformed dataset\n",
    "print(df.head())\n"
   ]
  },
  {
   "cell_type": "code",
   "execution_count": null,
   "metadata": {},
   "outputs": [
    {
     "ename": "",
     "evalue": "",
     "output_type": "error",
     "traceback": [
      "\u001b[1;31mnotebook controller is DISPOSED. \n",
      "\u001b[1;31mView Jupyter <a href='command:jupyter.viewOutput'>log</a> for further details."
     ]
    }
   ],
   "source": [
    "from sklearn.preprocessing import MinMaxScaler, StandardScaler\n",
    "\n",
    "# Select numerical columns\n",
    "numerical_cols = ['latitude', 'longitude', 'rainfall (mm)']\n",
    "\n",
    "# Apply MinMaxScaler (scaling between 0 and 1)\n",
    "scaler = MinMaxScaler()\n",
    "df[numerical_cols] = scaler.fit_transform(df[numerical_cols])\n",
    "\n"
   ]
  },
  {
   "cell_type": "code",
   "execution_count": null,
   "metadata": {},
   "outputs": [
    {
     "data": {
      "text/html": [
       "<div>\n",
       "<style scoped>\n",
       "    .dataframe tbody tr th:only-of-type {\n",
       "        vertical-align: middle;\n",
       "    }\n",
       "\n",
       "    .dataframe tbody tr th {\n",
       "        vertical-align: top;\n",
       "    }\n",
       "\n",
       "    .dataframe thead th {\n",
       "        text-align: right;\n",
       "    }\n",
       "</style>\n",
       "<table border=\"1\" class=\"dataframe\">\n",
       "  <thead>\n",
       "    <tr style=\"text-align: right;\">\n",
       "      <th></th>\n",
       "      <th>latitude</th>\n",
       "      <th>longitude</th>\n",
       "      <th>trigger</th>\n",
       "      <th>rainfall (mm)</th>\n",
       "      <th>landslide_type</th>\n",
       "      <th>severity</th>\n",
       "    </tr>\n",
       "  </thead>\n",
       "  <tbody>\n",
       "    <tr>\n",
       "      <th>0</th>\n",
       "      <td>0.000000</td>\n",
       "      <td>0.965670</td>\n",
       "      <td>4</td>\n",
       "      <td>0.965116</td>\n",
       "      <td>2</td>\n",
       "      <td>2</td>\n",
       "    </tr>\n",
       "    <tr>\n",
       "      <th>1</th>\n",
       "      <td>0.020401</td>\n",
       "      <td>0.972517</td>\n",
       "      <td>4</td>\n",
       "      <td>0.990486</td>\n",
       "      <td>0</td>\n",
       "      <td>2</td>\n",
       "    </tr>\n",
       "    <tr>\n",
       "      <th>2</th>\n",
       "      <td>0.021026</td>\n",
       "      <td>0.973987</td>\n",
       "      <td>4</td>\n",
       "      <td>0.856237</td>\n",
       "      <td>0</td>\n",
       "      <td>2</td>\n",
       "    </tr>\n",
       "    <tr>\n",
       "      <th>3</th>\n",
       "      <td>0.021119</td>\n",
       "      <td>0.973873</td>\n",
       "      <td>3</td>\n",
       "      <td>0.901691</td>\n",
       "      <td>2</td>\n",
       "      <td>2</td>\n",
       "    </tr>\n",
       "    <tr>\n",
       "      <th>4</th>\n",
       "      <td>0.021374</td>\n",
       "      <td>0.973658</td>\n",
       "      <td>4</td>\n",
       "      <td>0.663848</td>\n",
       "      <td>2</td>\n",
       "      <td>1</td>\n",
       "    </tr>\n",
       "  </tbody>\n",
       "</table>\n",
       "</div>"
      ],
      "text/plain": [
       "   latitude  longitude  trigger  rainfall (mm)  landslide_type  severity\n",
       "0  0.000000   0.965670        4       0.965116               2         2\n",
       "1  0.020401   0.972517        4       0.990486               0         2\n",
       "2  0.021026   0.973987        4       0.856237               0         2\n",
       "3  0.021119   0.973873        3       0.901691               2         2\n",
       "4  0.021374   0.973658        4       0.663848               2         1"
      ]
     },
     "execution_count": 45,
     "metadata": {},
     "output_type": "execute_result"
    },
    {
     "ename": "",
     "evalue": "",
     "output_type": "error",
     "traceback": [
      "\u001b[1;31mnotebook controller is DISPOSED. \n",
      "\u001b[1;31mView Jupyter <a href='command:jupyter.viewOutput'>log</a> for further details."
     ]
    }
   ],
   "source": [
    "df.head(5)"
   ]
  },
  {
   "cell_type": "code",
   "execution_count": null,
   "metadata": {},
   "outputs": [
    {
     "data": {
      "image/png": "[encoded data removed]",
      "text/plain": [
       "<Figure size 1000x600 with 2 Axes>"
      ]
     },
     "metadata": {},
     "output_type": "display_data"
    },
    {
     "ename": "",
     "evalue": "",
     "output_type": "error",
     "traceback": [
      "\u001b[1;31mnotebook controller is DISPOSED. \n",
      "\u001b[1;31mView Jupyter <a href='command:jupyter.viewOutput'>log</a> for further details."
     ]
    }
   ],
   "source": [
    "# Compute correlation matrix\n",
    "correlation_matrix = df.corr()\n",
    "\n",
    "# Plot heatmap\n",
    "plt.figure(figsize=(10, 6))\n",
    "sns.heatmap(correlation_matrix, annot=True, cmap=\"coolwarm\", linewidths=0.5)\n",
    "plt.title(\"Feature Correlation Heatmap\")\n",
    "plt.show()\n"
   ]
  },
  {
   "cell_type": "code",
   "execution_count": null,
   "metadata": {},
   "outputs": [
    {
     "data": {
      "image/png": "[encoded data removed]",
      "text/plain": [
       "<Figure size 800x600 with 1 Axes>"
      ]
     },
     "metadata": {},
     "output_type": "display_data"
    },
    {
     "ename": "",
     "evalue": "",
     "output_type": "error",
     "traceback": [
      "\u001b[1;31mnotebook controller is DISPOSED. \n",
      "\u001b[1;31mView Jupyter <a href='command:jupyter.viewOutput'>log</a> for further details."
     ]
    }
   ],
   "source": [
    "import seaborn as sns\n",
    "import matplotlib.pyplot as plt\n",
    "\n",
    "plt.figure(figsize=(8, 6))\n",
    "sns.scatterplot(x=df[\"rainfall (mm)\"], y=df[\"severity\"], hue=df[\"severity\"], palette=\"coolwarm\", alpha=0.7)\n",
    "\n",
    "plt.xlabel(\"Rainfall (mm)\")\n",
    "plt.ylabel(\"Severity\")\n",
    "plt.title(\"Scatter Plot of Rainfall vs. Severity\")\n",
    "plt.show()\n"
   ]
  },
  {
   "cell_type": "code",
   "execution_count": null,
   "metadata": {},
   "outputs": [
    {
     "data": {
      "image/png": "[encoded data removed]",
      "text/plain": [
       "<Figure size 800x600 with 1 Axes>"
      ]
     },
     "metadata": {},
     "output_type": "display_data"
    },
    {
     "ename": "",
     "evalue": "",
     "output_type": "error",
     "traceback": [
      "\u001b[1;31mnotebook controller is DISPOSED. \n",
      "\u001b[1;31mView Jupyter <a href='command:jupyter.viewOutput'>log</a> for further details."
     ]
    }
   ],
   "source": [
    "plt.figure(figsize=(8, 6))\n",
    "sns.scatterplot(x=df[\"longitude\"], y=df[\"latitude\"], hue=df[\"severity\"], palette=\"viridis\", alpha=0.7)\n",
    "\n",
    "plt.xlabel(\"Longitude\")\n",
    "plt.ylabel(\"Latitude\")\n",
    "plt.title(\"Landslide Locations (Latitude vs. Longitude)\")\n",
    "plt.show()\n"
   ]
  },
  {
   "cell_type": "code",
   "execution_count": null,
   "metadata": {},
   "outputs": [
    {
     "name": "stdout",
     "output_type": "stream",
     "text": [
      "Logistic Regression Accuracy: 0.984\n",
      "              precision    recall  f1-score   support\n",
      "\n",
      "           0       0.98      0.98      0.98        63\n",
      "           1       0.99      0.97      0.98       118\n",
      "           2       0.97      1.00      0.99        69\n",
      "\n",
      "    accuracy                           0.98       250\n",
      "   macro avg       0.98      0.99      0.98       250\n",
      "weighted avg       0.98      0.98      0.98       250\n",
      "\n"
     ]
    },
    {
     "ename": "",
     "evalue": "",
     "output_type": "error",
     "traceback": [
      "\u001b[1;31mnotebook controller is DISPOSED. \n",
      "\u001b[1;31mView Jupyter <a href='command:jupyter.viewOutput'>log</a> for further details."
     ]
    }
   ],
   "source": [
    "from sklearn.model_selection import train_test_split\n",
    "from sklearn.preprocessing import StandardScaler\n",
    "from sklearn.linear_model import LogisticRegression\n",
    "from sklearn.metrics import accuracy_score, classification_report\n",
    "\n",
    "# Splitting data\n",
    "X = df.drop(columns=['severity'])  # Features\n",
    "y = df['severity']  # Target variable\n",
    "\n",
    "X_train, X_test, y_train, y_test = train_test_split(X, y, test_size=0.25, random_state=42, stratify=y)\n",
    "\n",
    "# Standardizing features\n",
    "scaler = StandardScaler()\n",
    "X_train = scaler.fit_transform(X_train)\n",
    "X_test = scaler.transform(X_test)\n",
    "\n",
    "# Train Logistic Regression Model\n",
    "log_reg = LogisticRegression()\n",
    "log_reg.fit(X_train, y_train)\n",
    "\n",
    "# Predictions\n",
    "y_pred = log_reg.predict(X_test)\n",
    "\n",
    "# Evaluation\n",
    "print(\"Logistic Regression Accuracy:\", accuracy_score(y_test, y_pred))\n",
    "print(classification_report(y_test, y_pred))\n"
   ]
  },
  {
   "cell_type": "code",
   "execution_count": null,
   "metadata": {},
   "outputs": [
    {
     "name": "stdout",
     "output_type": "stream",
     "text": [
      "Random Forest Accuracy: 1.0\n",
      "              precision    recall  f1-score   support\n",
      "\n",
      "           0       1.00      1.00      1.00        63\n",
      "           1       1.00      1.00      1.00       118\n",
      "           2       1.00      1.00      1.00        69\n",
      "\n",
      "    accuracy                           1.00       250\n",
      "   macro avg       1.00      1.00      1.00       250\n",
      "weighted avg       1.00      1.00      1.00       250\n",
      "\n"
     ]
    },
    {
     "ename": "",
     "evalue": "",
     "output_type": "error",
     "traceback": [
      "\u001b[1;31mnotebook controller is DISPOSED. \n",
      "\u001b[1;31mView Jupyter <a href='command:jupyter.viewOutput'>log</a> for further details."
     ]
    }
   ],
   "source": [
    "from sklearn.ensemble import RandomForestClassifier\n",
    "\n",
    "# Train Random Forest Classifier\n",
    "rf_model = RandomForestClassifier(n_estimators=100, random_state=42)\n",
    "rf_model.fit(X_train, y_train)\n",
    "\n",
    "# Predictions\n",
    "y_pred_rf = rf_model.predict(X_test)\n",
    "\n",
    "# Evaluation\n",
    "print(\"Random Forest Accuracy:\", accuracy_score(y_test, y_pred_rf))\n",
    "print(classification_report(y_test, y_pred_rf))\n"
   ]
  },
  {
   "cell_type": "code",
   "execution_count": null,
   "metadata": {},
   "outputs": [
    {
     "name": "stdout",
     "output_type": "stream",
     "text": [
      "XGBoost Accuracy: 1.0\n",
      "              precision    recall  f1-score   support\n",
      "\n",
      "           0       1.00      1.00      1.00        63\n",
      "           1       1.00      1.00      1.00       118\n",
      "           2       1.00      1.00      1.00        69\n",
      "\n",
      "    accuracy                           1.00       250\n",
      "   macro avg       1.00      1.00      1.00       250\n",
      "weighted avg       1.00      1.00      1.00       250\n",
      "\n"
     ]
    },
    {
     "name": "stderr",
     "output_type": "stream",
     "text": [
      "c:\\Users\\nagen\\OneDrive\\Desktop\\AI\\venv\\lib\\site-packages\\xgboost\\core.py:158: UserWarning: [14:27:55] WARNING: C:\\buildkite-agent\\builds\\buildkite-windows-cpu-autoscaling-group-i-08cbc0333d8d4aae1-1\\xgboost\\xgboost-ci-windows\\src\\learner.cc:740: \n",
      "Parameters: { \"use_label_encoder\" } are not used.\n",
      "\n",
      "  warnings.warn(smsg, UserWarning)\n"
     ]
    },
    {
     "ename": "",
     "evalue": "",
     "output_type": "error",
     "traceback": [
      "\u001b[1;31mnotebook controller is DISPOSED. \n",
      "\u001b[1;31mView Jupyter <a href='command:jupyter.viewOutput'>log</a> for further details."
     ]
    }
   ],
   "source": [
    "from xgboost import XGBClassifier\n",
    "\n",
    "# Train XGBoost Model\n",
    "xgb_model = XGBClassifier(use_label_encoder=False, eval_metric='mlogloss')\n",
    "xgb_model.fit(X_train, y_train)\n",
    "\n",
    "# Predictions\n",
    "y_pred_xgb = xgb_model.predict(X_test)\n",
    "\n",
    "# Evaluation\n",
    "print(\"XGBoost Accuracy:\", accuracy_score(y_test, y_pred_xgb))\n",
    "print(classification_report(y_test, y_pred_xgb))\n"
   ]
  }
 ],
 "metadata": {
  "kernelspec": {
   "display_name": "Python 3",
   "language": "python",
   "name": "python3"
  },
  "language_info": {
   "codemirror_mode": {
    "name": "ipython",
    "version": 3
   },
   "file_extension": ".py",
   "mimetype": "text/x-python",
   "name": "python",
   "nbconvert_exporter": "python",
   "pygments_lexer": "ipython3",
   "version": "3.10.16"
  }
 },
 "nbformat": 4,
 "nbformat_minor": 2
}
